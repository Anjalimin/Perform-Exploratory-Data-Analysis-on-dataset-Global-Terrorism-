{
 "cells": [
  {
   "cell_type": "markdown",
   "id": "3ffe2893",
   "metadata": {},
   "source": [
    "# The Spark Foundation\n",
    "\n",
    "# Name: Anjali Jain"
   ]
  },
  {
   "cell_type": "markdown",
   "id": "ba0e8ff6",
   "metadata": {},
   "source": [
    "# Task-4 Perform ‘Exploratory Data Analysis’ on dataset ‘Global Terrorism'\n",
    "\n",
    "- As a security/defense analyst, try to find out the hot zone of terrorism.\n",
    "- What all security issues and insights you can derive by EDA?"
   ]
  },
  {
   "cell_type": "markdown",
   "id": "6a80f98b",
   "metadata": {},
   "source": [
    "Dataset:- https://bit.ly/2TK5Xn5"
   ]
  },
  {
   "cell_type": "code",
   "execution_count": 5,
   "id": "68eba941",
   "metadata": {},
   "outputs": [],
   "source": [
    "#importing libraries\n",
    "import pandas as pd\n",
    "import numpy as np\n",
    "import seaborn as sns\n",
    "import os\n",
    "import matplotlib.pyplot as plt\n",
    "%matplotlib inline"
   ]
  },
  {
   "cell_type": "code",
   "execution_count": 6,
   "id": "59d8c5d8",
   "metadata": {},
   "outputs": [
    {
     "name": "stderr",
     "output_type": "stream",
     "text": [
      "C:\\ProgramData\\Anaconda3\\lib\\site-packages\\IPython\\core\\interactiveshell.py:3165: DtypeWarning: Columns (4,6,31,33,61,62,63,76,79,90,92,94,96,114,115,121) have mixed types.Specify dtype option on import or set low_memory=False.\n",
      "  has_raised = await self.run_ast_nodes(code_ast.body, cell_name,\n"
     ]
    }
   ],
   "source": [
    "df=pd.read_csv(r'D:\\important docs for anjali\\globalterrorismdb_0718dist.csv')"
   ]
  },
  {
   "cell_type": "code",
   "execution_count": 7,
   "id": "c41ed364",
   "metadata": {},
   "outputs": [
    {
     "data": {
      "text/html": [
       "<div>\n",
       "<style scoped>\n",
       "    .dataframe tbody tr th:only-of-type {\n",
       "        vertical-align: middle;\n",
       "    }\n",
       "\n",
       "    .dataframe tbody tr th {\n",
       "        vertical-align: top;\n",
       "    }\n",
       "\n",
       "    .dataframe thead th {\n",
       "        text-align: right;\n",
       "    }\n",
       "</style>\n",
       "<table border=\"1\" class=\"dataframe\">\n",
       "  <thead>\n",
       "    <tr style=\"text-align: right;\">\n",
       "      <th></th>\n",
       "      <th>eventid</th>\n",
       "      <th>iyear</th>\n",
       "      <th>imonth</th>\n",
       "      <th>iday</th>\n",
       "      <th>approxdate</th>\n",
       "      <th>extended</th>\n",
       "      <th>resolution</th>\n",
       "      <th>country</th>\n",
       "      <th>country_txt</th>\n",
       "      <th>region</th>\n",
       "      <th>...</th>\n",
       "      <th>addnotes</th>\n",
       "      <th>scite1</th>\n",
       "      <th>scite2</th>\n",
       "      <th>scite3</th>\n",
       "      <th>dbsource</th>\n",
       "      <th>INT_LOG</th>\n",
       "      <th>INT_IDEO</th>\n",
       "      <th>INT_MISC</th>\n",
       "      <th>INT_ANY</th>\n",
       "      <th>related</th>\n",
       "    </tr>\n",
       "  </thead>\n",
       "  <tbody>\n",
       "    <tr>\n",
       "      <th>0</th>\n",
       "      <td>197000000001</td>\n",
       "      <td>1970</td>\n",
       "      <td>7</td>\n",
       "      <td>2</td>\n",
       "      <td>NaN</td>\n",
       "      <td>0</td>\n",
       "      <td>NaN</td>\n",
       "      <td>58</td>\n",
       "      <td>Dominican Republic</td>\n",
       "      <td>2</td>\n",
       "      <td>...</td>\n",
       "      <td>NaN</td>\n",
       "      <td>NaN</td>\n",
       "      <td>NaN</td>\n",
       "      <td>NaN</td>\n",
       "      <td>PGIS</td>\n",
       "      <td>0</td>\n",
       "      <td>0</td>\n",
       "      <td>0</td>\n",
       "      <td>0</td>\n",
       "      <td>NaN</td>\n",
       "    </tr>\n",
       "    <tr>\n",
       "      <th>1</th>\n",
       "      <td>197000000002</td>\n",
       "      <td>1970</td>\n",
       "      <td>0</td>\n",
       "      <td>0</td>\n",
       "      <td>NaN</td>\n",
       "      <td>0</td>\n",
       "      <td>NaN</td>\n",
       "      <td>130</td>\n",
       "      <td>Mexico</td>\n",
       "      <td>1</td>\n",
       "      <td>...</td>\n",
       "      <td>NaN</td>\n",
       "      <td>NaN</td>\n",
       "      <td>NaN</td>\n",
       "      <td>NaN</td>\n",
       "      <td>PGIS</td>\n",
       "      <td>0</td>\n",
       "      <td>1</td>\n",
       "      <td>1</td>\n",
       "      <td>1</td>\n",
       "      <td>NaN</td>\n",
       "    </tr>\n",
       "    <tr>\n",
       "      <th>2</th>\n",
       "      <td>197001000001</td>\n",
       "      <td>1970</td>\n",
       "      <td>1</td>\n",
       "      <td>0</td>\n",
       "      <td>NaN</td>\n",
       "      <td>0</td>\n",
       "      <td>NaN</td>\n",
       "      <td>160</td>\n",
       "      <td>Philippines</td>\n",
       "      <td>5</td>\n",
       "      <td>...</td>\n",
       "      <td>NaN</td>\n",
       "      <td>NaN</td>\n",
       "      <td>NaN</td>\n",
       "      <td>NaN</td>\n",
       "      <td>PGIS</td>\n",
       "      <td>-9</td>\n",
       "      <td>-9</td>\n",
       "      <td>1</td>\n",
       "      <td>1</td>\n",
       "      <td>NaN</td>\n",
       "    </tr>\n",
       "    <tr>\n",
       "      <th>3</th>\n",
       "      <td>197001000002</td>\n",
       "      <td>1970</td>\n",
       "      <td>1</td>\n",
       "      <td>0</td>\n",
       "      <td>NaN</td>\n",
       "      <td>0</td>\n",
       "      <td>NaN</td>\n",
       "      <td>78</td>\n",
       "      <td>Greece</td>\n",
       "      <td>8</td>\n",
       "      <td>...</td>\n",
       "      <td>NaN</td>\n",
       "      <td>NaN</td>\n",
       "      <td>NaN</td>\n",
       "      <td>NaN</td>\n",
       "      <td>PGIS</td>\n",
       "      <td>-9</td>\n",
       "      <td>-9</td>\n",
       "      <td>1</td>\n",
       "      <td>1</td>\n",
       "      <td>NaN</td>\n",
       "    </tr>\n",
       "    <tr>\n",
       "      <th>4</th>\n",
       "      <td>197001000003</td>\n",
       "      <td>1970</td>\n",
       "      <td>1</td>\n",
       "      <td>0</td>\n",
       "      <td>NaN</td>\n",
       "      <td>0</td>\n",
       "      <td>NaN</td>\n",
       "      <td>101</td>\n",
       "      <td>Japan</td>\n",
       "      <td>4</td>\n",
       "      <td>...</td>\n",
       "      <td>NaN</td>\n",
       "      <td>NaN</td>\n",
       "      <td>NaN</td>\n",
       "      <td>NaN</td>\n",
       "      <td>PGIS</td>\n",
       "      <td>-9</td>\n",
       "      <td>-9</td>\n",
       "      <td>1</td>\n",
       "      <td>1</td>\n",
       "      <td>NaN</td>\n",
       "    </tr>\n",
       "    <tr>\n",
       "      <th>...</th>\n",
       "      <td>...</td>\n",
       "      <td>...</td>\n",
       "      <td>...</td>\n",
       "      <td>...</td>\n",
       "      <td>...</td>\n",
       "      <td>...</td>\n",
       "      <td>...</td>\n",
       "      <td>...</td>\n",
       "      <td>...</td>\n",
       "      <td>...</td>\n",
       "      <td>...</td>\n",
       "      <td>...</td>\n",
       "      <td>...</td>\n",
       "      <td>...</td>\n",
       "      <td>...</td>\n",
       "      <td>...</td>\n",
       "      <td>...</td>\n",
       "      <td>...</td>\n",
       "      <td>...</td>\n",
       "      <td>...</td>\n",
       "      <td>...</td>\n",
       "    </tr>\n",
       "    <tr>\n",
       "      <th>181686</th>\n",
       "      <td>201712310022</td>\n",
       "      <td>2017</td>\n",
       "      <td>12</td>\n",
       "      <td>31</td>\n",
       "      <td>NaN</td>\n",
       "      <td>0</td>\n",
       "      <td>NaN</td>\n",
       "      <td>182</td>\n",
       "      <td>Somalia</td>\n",
       "      <td>11</td>\n",
       "      <td>...</td>\n",
       "      <td>NaN</td>\n",
       "      <td>\"Somalia: Al-Shabaab Militants Attack Army Che...</td>\n",
       "      <td>\"Highlights: Somalia Daily Media Highlights 2 ...</td>\n",
       "      <td>\"Highlights: Somalia Daily Media Highlights 1 ...</td>\n",
       "      <td>START Primary Collection</td>\n",
       "      <td>0</td>\n",
       "      <td>0</td>\n",
       "      <td>0</td>\n",
       "      <td>0</td>\n",
       "      <td>NaN</td>\n",
       "    </tr>\n",
       "    <tr>\n",
       "      <th>181687</th>\n",
       "      <td>201712310029</td>\n",
       "      <td>2017</td>\n",
       "      <td>12</td>\n",
       "      <td>31</td>\n",
       "      <td>NaN</td>\n",
       "      <td>0</td>\n",
       "      <td>NaN</td>\n",
       "      <td>200</td>\n",
       "      <td>Syria</td>\n",
       "      <td>10</td>\n",
       "      <td>...</td>\n",
       "      <td>NaN</td>\n",
       "      <td>\"Putin's 'victory' in Syria has turned into a ...</td>\n",
       "      <td>\"Two Russian soldiers killed at Hmeymim base i...</td>\n",
       "      <td>\"Two Russian servicemen killed in Syria mortar...</td>\n",
       "      <td>START Primary Collection</td>\n",
       "      <td>-9</td>\n",
       "      <td>-9</td>\n",
       "      <td>1</td>\n",
       "      <td>1</td>\n",
       "      <td>NaN</td>\n",
       "    </tr>\n",
       "    <tr>\n",
       "      <th>181688</th>\n",
       "      <td>201712310030</td>\n",
       "      <td>2017</td>\n",
       "      <td>12</td>\n",
       "      <td>31</td>\n",
       "      <td>NaN</td>\n",
       "      <td>0</td>\n",
       "      <td>NaN</td>\n",
       "      <td>160</td>\n",
       "      <td>Philippines</td>\n",
       "      <td>5</td>\n",
       "      <td>...</td>\n",
       "      <td>NaN</td>\n",
       "      <td>\"Maguindanao clashes trap tribe members,\" Phil...</td>\n",
       "      <td>NaN</td>\n",
       "      <td>NaN</td>\n",
       "      <td>START Primary Collection</td>\n",
       "      <td>0</td>\n",
       "      <td>0</td>\n",
       "      <td>0</td>\n",
       "      <td>0</td>\n",
       "      <td>NaN</td>\n",
       "    </tr>\n",
       "    <tr>\n",
       "      <th>181689</th>\n",
       "      <td>201712310031</td>\n",
       "      <td>2017</td>\n",
       "      <td>12</td>\n",
       "      <td>31</td>\n",
       "      <td>NaN</td>\n",
       "      <td>0</td>\n",
       "      <td>NaN</td>\n",
       "      <td>92</td>\n",
       "      <td>India</td>\n",
       "      <td>6</td>\n",
       "      <td>...</td>\n",
       "      <td>NaN</td>\n",
       "      <td>\"Trader escapes grenade attack in Imphal,\" Bus...</td>\n",
       "      <td>NaN</td>\n",
       "      <td>NaN</td>\n",
       "      <td>START Primary Collection</td>\n",
       "      <td>-9</td>\n",
       "      <td>-9</td>\n",
       "      <td>0</td>\n",
       "      <td>-9</td>\n",
       "      <td>NaN</td>\n",
       "    </tr>\n",
       "    <tr>\n",
       "      <th>181690</th>\n",
       "      <td>201712310032</td>\n",
       "      <td>2017</td>\n",
       "      <td>12</td>\n",
       "      <td>31</td>\n",
       "      <td>NaN</td>\n",
       "      <td>0</td>\n",
       "      <td>NaN</td>\n",
       "      <td>160</td>\n",
       "      <td>Philippines</td>\n",
       "      <td>5</td>\n",
       "      <td>...</td>\n",
       "      <td>NaN</td>\n",
       "      <td>\"Security tightened in Cotabato following IED ...</td>\n",
       "      <td>\"Security tightened in Cotabato City,\" Manila ...</td>\n",
       "      <td>NaN</td>\n",
       "      <td>START Primary Collection</td>\n",
       "      <td>-9</td>\n",
       "      <td>-9</td>\n",
       "      <td>0</td>\n",
       "      <td>-9</td>\n",
       "      <td>NaN</td>\n",
       "    </tr>\n",
       "  </tbody>\n",
       "</table>\n",
       "<p>181691 rows × 135 columns</p>\n",
       "</div>"
      ],
      "text/plain": [
       "             eventid  iyear  imonth  iday approxdate  extended resolution  \\\n",
       "0       197000000001   1970       7     2        NaN         0        NaN   \n",
       "1       197000000002   1970       0     0        NaN         0        NaN   \n",
       "2       197001000001   1970       1     0        NaN         0        NaN   \n",
       "3       197001000002   1970       1     0        NaN         0        NaN   \n",
       "4       197001000003   1970       1     0        NaN         0        NaN   \n",
       "...              ...    ...     ...   ...        ...       ...        ...   \n",
       "181686  201712310022   2017      12    31        NaN         0        NaN   \n",
       "181687  201712310029   2017      12    31        NaN         0        NaN   \n",
       "181688  201712310030   2017      12    31        NaN         0        NaN   \n",
       "181689  201712310031   2017      12    31        NaN         0        NaN   \n",
       "181690  201712310032   2017      12    31        NaN         0        NaN   \n",
       "\n",
       "        country         country_txt  region  ... addnotes  \\\n",
       "0            58  Dominican Republic       2  ...      NaN   \n",
       "1           130              Mexico       1  ...      NaN   \n",
       "2           160         Philippines       5  ...      NaN   \n",
       "3            78              Greece       8  ...      NaN   \n",
       "4           101               Japan       4  ...      NaN   \n",
       "...         ...                 ...     ...  ...      ...   \n",
       "181686      182             Somalia      11  ...      NaN   \n",
       "181687      200               Syria      10  ...      NaN   \n",
       "181688      160         Philippines       5  ...      NaN   \n",
       "181689       92               India       6  ...      NaN   \n",
       "181690      160         Philippines       5  ...      NaN   \n",
       "\n",
       "                                                   scite1  \\\n",
       "0                                                     NaN   \n",
       "1                                                     NaN   \n",
       "2                                                     NaN   \n",
       "3                                                     NaN   \n",
       "4                                                     NaN   \n",
       "...                                                   ...   \n",
       "181686  \"Somalia: Al-Shabaab Militants Attack Army Che...   \n",
       "181687  \"Putin's 'victory' in Syria has turned into a ...   \n",
       "181688  \"Maguindanao clashes trap tribe members,\" Phil...   \n",
       "181689  \"Trader escapes grenade attack in Imphal,\" Bus...   \n",
       "181690  \"Security tightened in Cotabato following IED ...   \n",
       "\n",
       "                                                   scite2  \\\n",
       "0                                                     NaN   \n",
       "1                                                     NaN   \n",
       "2                                                     NaN   \n",
       "3                                                     NaN   \n",
       "4                                                     NaN   \n",
       "...                                                   ...   \n",
       "181686  \"Highlights: Somalia Daily Media Highlights 2 ...   \n",
       "181687  \"Two Russian soldiers killed at Hmeymim base i...   \n",
       "181688                                                NaN   \n",
       "181689                                                NaN   \n",
       "181690  \"Security tightened in Cotabato City,\" Manila ...   \n",
       "\n",
       "                                                   scite3  \\\n",
       "0                                                     NaN   \n",
       "1                                                     NaN   \n",
       "2                                                     NaN   \n",
       "3                                                     NaN   \n",
       "4                                                     NaN   \n",
       "...                                                   ...   \n",
       "181686  \"Highlights: Somalia Daily Media Highlights 1 ...   \n",
       "181687  \"Two Russian servicemen killed in Syria mortar...   \n",
       "181688                                                NaN   \n",
       "181689                                                NaN   \n",
       "181690                                                NaN   \n",
       "\n",
       "                        dbsource  INT_LOG  INT_IDEO INT_MISC INT_ANY  related  \n",
       "0                           PGIS        0         0        0       0      NaN  \n",
       "1                           PGIS        0         1        1       1      NaN  \n",
       "2                           PGIS       -9        -9        1       1      NaN  \n",
       "3                           PGIS       -9        -9        1       1      NaN  \n",
       "4                           PGIS       -9        -9        1       1      NaN  \n",
       "...                          ...      ...       ...      ...     ...      ...  \n",
       "181686  START Primary Collection        0         0        0       0      NaN  \n",
       "181687  START Primary Collection       -9        -9        1       1      NaN  \n",
       "181688  START Primary Collection        0         0        0       0      NaN  \n",
       "181689  START Primary Collection       -9        -9        0      -9      NaN  \n",
       "181690  START Primary Collection       -9        -9        0      -9      NaN  \n",
       "\n",
       "[181691 rows x 135 columns]"
      ]
     },
     "execution_count": 7,
     "metadata": {},
     "output_type": "execute_result"
    }
   ],
   "source": [
    "df"
   ]
  },
  {
   "cell_type": "code",
   "execution_count": 9,
   "id": "88e500c7",
   "metadata": {},
   "outputs": [
    {
     "data": {
      "text/plain": [
       "(181691, 135)"
      ]
     },
     "execution_count": 9,
     "metadata": {},
     "output_type": "execute_result"
    }
   ],
   "source": [
    "df.shape"
   ]
  },
  {
   "cell_type": "code",
   "execution_count": 10,
   "id": "4f81c1e4",
   "metadata": {},
   "outputs": [],
   "source": [
    "#clean some data\n",
    "df.rename(columns={'iyear':'Year',\n",
    "                       'imonth':'Month',\n",
    "                       'iday':'Day',\n",
    "                       'country_txt':'Country',\n",
    "                       'region_txt':'Region',\n",
    "                       'attacktype1_txt':'AttackType',\n",
    "                       'target1':'Target',\n",
    "                       'nkill':'Killed',\n",
    "                       'nwound':'Wounded',\n",
    "                       'summary':'Summary',\n",
    "                       'gname':'Group',\n",
    "                       'targtype1_txt':'Target_type',\n",
    "                       'weaptype1_txt':'Weapon_type',\n",
    "                       'motive':'Motive'},\n",
    "              inplace=True)"
   ]
  },
  {
   "cell_type": "code",
   "execution_count": 11,
   "id": "0173b898",
   "metadata": {},
   "outputs": [
    {
     "name": "stderr",
     "output_type": "stream",
     "text": [
      "<ipython-input-11-5c23147b545d>:7: SettingWithCopyWarning: \n",
      "A value is trying to be set on a copy of a slice from a DataFrame.\n",
      "Try using .loc[row_indexer,col_indexer] = value instead\n",
      "\n",
      "See the caveats in the documentation: https://pandas.pydata.org/pandas-docs/stable/user_guide/indexing.html#returning-a-view-versus-a-copy\n",
      "  df['casualities']=df['Killed']+df['Wounded']\n"
     ]
    },
    {
     "data": {
      "text/html": [
       "<div>\n",
       "<style scoped>\n",
       "    .dataframe tbody tr th:only-of-type {\n",
       "        vertical-align: middle;\n",
       "    }\n",
       "\n",
       "    .dataframe tbody tr th {\n",
       "        vertical-align: top;\n",
       "    }\n",
       "\n",
       "    .dataframe thead th {\n",
       "        text-align: right;\n",
       "    }\n",
       "</style>\n",
       "<table border=\"1\" class=\"dataframe\">\n",
       "  <thead>\n",
       "    <tr style=\"text-align: right;\">\n",
       "      <th></th>\n",
       "      <th>Year</th>\n",
       "      <th>Month</th>\n",
       "      <th>Day</th>\n",
       "      <th>Country</th>\n",
       "      <th>Region</th>\n",
       "      <th>city</th>\n",
       "      <th>latitude</th>\n",
       "      <th>longitude</th>\n",
       "      <th>AttackType</th>\n",
       "      <th>Killed</th>\n",
       "      <th>Wounded</th>\n",
       "      <th>Target</th>\n",
       "      <th>Summary</th>\n",
       "      <th>Group</th>\n",
       "      <th>Target_type</th>\n",
       "      <th>Weapon_type</th>\n",
       "      <th>Motive</th>\n",
       "      <th>casualities</th>\n",
       "    </tr>\n",
       "  </thead>\n",
       "  <tbody>\n",
       "    <tr>\n",
       "      <th>0</th>\n",
       "      <td>1970</td>\n",
       "      <td>7</td>\n",
       "      <td>2</td>\n",
       "      <td>Dominican Republic</td>\n",
       "      <td>Central America &amp; Caribbean</td>\n",
       "      <td>Santo Domingo</td>\n",
       "      <td>18.456792</td>\n",
       "      <td>-69.951164</td>\n",
       "      <td>Assassination</td>\n",
       "      <td>1.0</td>\n",
       "      <td>0.0</td>\n",
       "      <td>Julio Guzman</td>\n",
       "      <td>NaN</td>\n",
       "      <td>MANO-D</td>\n",
       "      <td>Private Citizens &amp; Property</td>\n",
       "      <td>Unknown</td>\n",
       "      <td>NaN</td>\n",
       "      <td>1.0</td>\n",
       "    </tr>\n",
       "    <tr>\n",
       "      <th>1</th>\n",
       "      <td>1970</td>\n",
       "      <td>0</td>\n",
       "      <td>0</td>\n",
       "      <td>Mexico</td>\n",
       "      <td>North America</td>\n",
       "      <td>Mexico city</td>\n",
       "      <td>19.371887</td>\n",
       "      <td>-99.086624</td>\n",
       "      <td>Hostage Taking (Kidnapping)</td>\n",
       "      <td>0.0</td>\n",
       "      <td>0.0</td>\n",
       "      <td>Nadine Chaval, daughter</td>\n",
       "      <td>NaN</td>\n",
       "      <td>23rd of September Communist League</td>\n",
       "      <td>Government (Diplomatic)</td>\n",
       "      <td>Unknown</td>\n",
       "      <td>NaN</td>\n",
       "      <td>0.0</td>\n",
       "    </tr>\n",
       "    <tr>\n",
       "      <th>2</th>\n",
       "      <td>1970</td>\n",
       "      <td>1</td>\n",
       "      <td>0</td>\n",
       "      <td>Philippines</td>\n",
       "      <td>Southeast Asia</td>\n",
       "      <td>Unknown</td>\n",
       "      <td>15.478598</td>\n",
       "      <td>120.599741</td>\n",
       "      <td>Assassination</td>\n",
       "      <td>1.0</td>\n",
       "      <td>0.0</td>\n",
       "      <td>Employee</td>\n",
       "      <td>NaN</td>\n",
       "      <td>Unknown</td>\n",
       "      <td>Journalists &amp; Media</td>\n",
       "      <td>Unknown</td>\n",
       "      <td>NaN</td>\n",
       "      <td>1.0</td>\n",
       "    </tr>\n",
       "    <tr>\n",
       "      <th>3</th>\n",
       "      <td>1970</td>\n",
       "      <td>1</td>\n",
       "      <td>0</td>\n",
       "      <td>Greece</td>\n",
       "      <td>Western Europe</td>\n",
       "      <td>Athens</td>\n",
       "      <td>37.997490</td>\n",
       "      <td>23.762728</td>\n",
       "      <td>Bombing/Explosion</td>\n",
       "      <td>NaN</td>\n",
       "      <td>NaN</td>\n",
       "      <td>U.S. Embassy</td>\n",
       "      <td>NaN</td>\n",
       "      <td>Unknown</td>\n",
       "      <td>Government (Diplomatic)</td>\n",
       "      <td>Explosives</td>\n",
       "      <td>NaN</td>\n",
       "      <td>NaN</td>\n",
       "    </tr>\n",
       "    <tr>\n",
       "      <th>4</th>\n",
       "      <td>1970</td>\n",
       "      <td>1</td>\n",
       "      <td>0</td>\n",
       "      <td>Japan</td>\n",
       "      <td>East Asia</td>\n",
       "      <td>Fukouka</td>\n",
       "      <td>33.580412</td>\n",
       "      <td>130.396361</td>\n",
       "      <td>Facility/Infrastructure Attack</td>\n",
       "      <td>NaN</td>\n",
       "      <td>NaN</td>\n",
       "      <td>U.S. Consulate</td>\n",
       "      <td>NaN</td>\n",
       "      <td>Unknown</td>\n",
       "      <td>Government (Diplomatic)</td>\n",
       "      <td>Incendiary</td>\n",
       "      <td>NaN</td>\n",
       "      <td>NaN</td>\n",
       "    </tr>\n",
       "  </tbody>\n",
       "</table>\n",
       "</div>"
      ],
      "text/plain": [
       "   Year  Month  Day             Country                       Region  \\\n",
       "0  1970      7    2  Dominican Republic  Central America & Caribbean   \n",
       "1  1970      0    0              Mexico                North America   \n",
       "2  1970      1    0         Philippines               Southeast Asia   \n",
       "3  1970      1    0              Greece               Western Europe   \n",
       "4  1970      1    0               Japan                    East Asia   \n",
       "\n",
       "            city   latitude   longitude                      AttackType  \\\n",
       "0  Santo Domingo  18.456792  -69.951164                   Assassination   \n",
       "1    Mexico city  19.371887  -99.086624     Hostage Taking (Kidnapping)   \n",
       "2        Unknown  15.478598  120.599741                   Assassination   \n",
       "3         Athens  37.997490   23.762728               Bombing/Explosion   \n",
       "4        Fukouka  33.580412  130.396361  Facility/Infrastructure Attack   \n",
       "\n",
       "   Killed  Wounded                   Target Summary  \\\n",
       "0     1.0      0.0             Julio Guzman     NaN   \n",
       "1     0.0      0.0  Nadine Chaval, daughter     NaN   \n",
       "2     1.0      0.0                 Employee     NaN   \n",
       "3     NaN      NaN             U.S. Embassy     NaN   \n",
       "4     NaN      NaN           U.S. Consulate     NaN   \n",
       "\n",
       "                                Group                  Target_type  \\\n",
       "0                              MANO-D  Private Citizens & Property   \n",
       "1  23rd of September Communist League      Government (Diplomatic)   \n",
       "2                             Unknown          Journalists & Media   \n",
       "3                             Unknown      Government (Diplomatic)   \n",
       "4                             Unknown      Government (Diplomatic)   \n",
       "\n",
       "  Weapon_type Motive  casualities  \n",
       "0     Unknown    NaN          1.0  \n",
       "1     Unknown    NaN          0.0  \n",
       "2     Unknown    NaN          1.0  \n",
       "3  Explosives    NaN          NaN  \n",
       "4  Incendiary    NaN          NaN  "
      ]
     },
     "execution_count": 11,
     "metadata": {},
     "output_type": "execute_result"
    }
   ],
   "source": [
    "# df_new = df.dropna(thresh=160000,axis=1)\n",
    "# select useful columns from dataset\n",
    "df = df[['Year','Month','Day','Country','Region','city','latitude','longitude','AttackType','Killed','Wounded','Target',\n",
    "             'Summary','Group','Target_type','Weapon_type','Motive']]\n",
    "\n",
    "# adding casualities columns\n",
    "df['casualities']=df['Killed']+df['Wounded']\n",
    "df.head()"
   ]
  },
  {
   "cell_type": "code",
   "execution_count": 12,
   "id": "0769fc80",
   "metadata": {},
   "outputs": [
    {
     "data": {
      "text/plain": [
       "Year                0\n",
       "Month               0\n",
       "Day                 0\n",
       "Country             0\n",
       "Region              0\n",
       "city              434\n",
       "latitude         4556\n",
       "longitude        4557\n",
       "AttackType          0\n",
       "Killed          10313\n",
       "Wounded         16311\n",
       "Target            636\n",
       "Summary         66129\n",
       "Group               0\n",
       "Target_type         0\n",
       "Weapon_type         0\n",
       "Motive         131130\n",
       "casualities     16874\n",
       "dtype: int64"
      ]
     },
     "execution_count": 12,
     "metadata": {},
     "output_type": "execute_result"
    }
   ],
   "source": [
    "#check for the null values\n",
    "df.isnull().sum()"
   ]
  },
  {
   "cell_type": "code",
   "execution_count": 13,
   "id": "d3717d09",
   "metadata": {},
   "outputs": [
    {
     "name": "stdout",
     "output_type": "stream",
     "text": [
      "<class 'pandas.core.frame.DataFrame'>\n",
      "RangeIndex: 181691 entries, 0 to 181690\n",
      "Data columns (total 18 columns):\n",
      " #   Column       Non-Null Count   Dtype  \n",
      "---  ------       --------------   -----  \n",
      " 0   Year         181691 non-null  int64  \n",
      " 1   Month        181691 non-null  int64  \n",
      " 2   Day          181691 non-null  int64  \n",
      " 3   Country      181691 non-null  object \n",
      " 4   Region       181691 non-null  object \n",
      " 5   city         181257 non-null  object \n",
      " 6   latitude     177135 non-null  float64\n",
      " 7   longitude    177134 non-null  float64\n",
      " 8   AttackType   181691 non-null  object \n",
      " 9   Killed       171378 non-null  float64\n",
      " 10  Wounded      165380 non-null  float64\n",
      " 11  Target       181055 non-null  object \n",
      " 12  Summary      115562 non-null  object \n",
      " 13  Group        181691 non-null  object \n",
      " 14  Target_type  181691 non-null  object \n",
      " 15  Weapon_type  181691 non-null  object \n",
      " 16  Motive       50561 non-null   object \n",
      " 17  casualities  164817 non-null  float64\n",
      "dtypes: float64(5), int64(3), object(10)\n",
      "memory usage: 25.0+ MB\n"
     ]
    }
   ],
   "source": [
    "#check the information\n",
    "df.info()"
   ]
  },
  {
   "cell_type": "code",
   "execution_count": 14,
   "id": "65aec9fa",
   "metadata": {},
   "outputs": [
    {
     "data": {
      "text/html": [
       "<div>\n",
       "<style scoped>\n",
       "    .dataframe tbody tr th:only-of-type {\n",
       "        vertical-align: middle;\n",
       "    }\n",
       "\n",
       "    .dataframe tbody tr th {\n",
       "        vertical-align: top;\n",
       "    }\n",
       "\n",
       "    .dataframe thead th {\n",
       "        text-align: right;\n",
       "    }\n",
       "</style>\n",
       "<table border=\"1\" class=\"dataframe\">\n",
       "  <thead>\n",
       "    <tr style=\"text-align: right;\">\n",
       "      <th></th>\n",
       "      <th>Year</th>\n",
       "      <th>Month</th>\n",
       "      <th>Day</th>\n",
       "      <th>latitude</th>\n",
       "      <th>longitude</th>\n",
       "      <th>Killed</th>\n",
       "      <th>Wounded</th>\n",
       "      <th>casualities</th>\n",
       "    </tr>\n",
       "  </thead>\n",
       "  <tbody>\n",
       "    <tr>\n",
       "      <th>count</th>\n",
       "      <td>181691.000000</td>\n",
       "      <td>181691.000000</td>\n",
       "      <td>181691.000000</td>\n",
       "      <td>177135.000000</td>\n",
       "      <td>1.771340e+05</td>\n",
       "      <td>171378.000000</td>\n",
       "      <td>165380.000000</td>\n",
       "      <td>164817.000000</td>\n",
       "    </tr>\n",
       "    <tr>\n",
       "      <th>mean</th>\n",
       "      <td>2002.638997</td>\n",
       "      <td>6.467277</td>\n",
       "      <td>15.505644</td>\n",
       "      <td>23.498343</td>\n",
       "      <td>-4.586957e+02</td>\n",
       "      <td>2.403272</td>\n",
       "      <td>3.167668</td>\n",
       "      <td>5.296128</td>\n",
       "    </tr>\n",
       "    <tr>\n",
       "      <th>std</th>\n",
       "      <td>13.259430</td>\n",
       "      <td>3.388303</td>\n",
       "      <td>8.814045</td>\n",
       "      <td>18.569242</td>\n",
       "      <td>2.047790e+05</td>\n",
       "      <td>11.545741</td>\n",
       "      <td>35.949392</td>\n",
       "      <td>42.069023</td>\n",
       "    </tr>\n",
       "    <tr>\n",
       "      <th>min</th>\n",
       "      <td>1970.000000</td>\n",
       "      <td>0.000000</td>\n",
       "      <td>0.000000</td>\n",
       "      <td>-53.154613</td>\n",
       "      <td>-8.618590e+07</td>\n",
       "      <td>0.000000</td>\n",
       "      <td>0.000000</td>\n",
       "      <td>0.000000</td>\n",
       "    </tr>\n",
       "    <tr>\n",
       "      <th>25%</th>\n",
       "      <td>1991.000000</td>\n",
       "      <td>4.000000</td>\n",
       "      <td>8.000000</td>\n",
       "      <td>11.510046</td>\n",
       "      <td>4.545640e+00</td>\n",
       "      <td>0.000000</td>\n",
       "      <td>0.000000</td>\n",
       "      <td>0.000000</td>\n",
       "    </tr>\n",
       "    <tr>\n",
       "      <th>50%</th>\n",
       "      <td>2009.000000</td>\n",
       "      <td>6.000000</td>\n",
       "      <td>15.000000</td>\n",
       "      <td>31.467463</td>\n",
       "      <td>4.324651e+01</td>\n",
       "      <td>0.000000</td>\n",
       "      <td>0.000000</td>\n",
       "      <td>1.000000</td>\n",
       "    </tr>\n",
       "    <tr>\n",
       "      <th>75%</th>\n",
       "      <td>2014.000000</td>\n",
       "      <td>9.000000</td>\n",
       "      <td>23.000000</td>\n",
       "      <td>34.685087</td>\n",
       "      <td>6.871033e+01</td>\n",
       "      <td>2.000000</td>\n",
       "      <td>2.000000</td>\n",
       "      <td>4.000000</td>\n",
       "    </tr>\n",
       "    <tr>\n",
       "      <th>max</th>\n",
       "      <td>2017.000000</td>\n",
       "      <td>12.000000</td>\n",
       "      <td>31.000000</td>\n",
       "      <td>74.633553</td>\n",
       "      <td>1.793667e+02</td>\n",
       "      <td>1570.000000</td>\n",
       "      <td>8191.000000</td>\n",
       "      <td>9574.000000</td>\n",
       "    </tr>\n",
       "  </tbody>\n",
       "</table>\n",
       "</div>"
      ],
      "text/plain": [
       "                Year          Month            Day       latitude  \\\n",
       "count  181691.000000  181691.000000  181691.000000  177135.000000   \n",
       "mean     2002.638997       6.467277      15.505644      23.498343   \n",
       "std        13.259430       3.388303       8.814045      18.569242   \n",
       "min      1970.000000       0.000000       0.000000     -53.154613   \n",
       "25%      1991.000000       4.000000       8.000000      11.510046   \n",
       "50%      2009.000000       6.000000      15.000000      31.467463   \n",
       "75%      2014.000000       9.000000      23.000000      34.685087   \n",
       "max      2017.000000      12.000000      31.000000      74.633553   \n",
       "\n",
       "          longitude         Killed        Wounded    casualities  \n",
       "count  1.771340e+05  171378.000000  165380.000000  164817.000000  \n",
       "mean  -4.586957e+02       2.403272       3.167668       5.296128  \n",
       "std    2.047790e+05      11.545741      35.949392      42.069023  \n",
       "min   -8.618590e+07       0.000000       0.000000       0.000000  \n",
       "25%    4.545640e+00       0.000000       0.000000       0.000000  \n",
       "50%    4.324651e+01       0.000000       0.000000       1.000000  \n",
       "75%    6.871033e+01       2.000000       2.000000       4.000000  \n",
       "max    1.793667e+02    1570.000000    8191.000000    9574.000000  "
      ]
     },
     "execution_count": 14,
     "metadata": {},
     "output_type": "execute_result"
    }
   ],
   "source": [
    "df.describe()"
   ]
  },
  {
   "cell_type": "code",
   "execution_count": 15,
   "id": "33ea20ad",
   "metadata": {},
   "outputs": [
    {
     "data": {
      "text/plain": [
       "Year               47\n",
       "Month              13\n",
       "Day                32\n",
       "Country           205\n",
       "Region             12\n",
       "city            36674\n",
       "latitude        48322\n",
       "longitude       48039\n",
       "AttackType          9\n",
       "Killed            205\n",
       "Wounded           238\n",
       "Target          86006\n",
       "Summary        112492\n",
       "Group            3537\n",
       "Target_type        22\n",
       "Weapon_type        12\n",
       "Motive          14490\n",
       "casualities       341\n",
       "dtype: int64"
      ]
     },
     "execution_count": 15,
     "metadata": {},
     "output_type": "execute_result"
    }
   ],
   "source": [
    "#check the unique values in dataset\n",
    "df.nunique()"
   ]
  },
  {
   "cell_type": "markdown",
   "id": "9b0abea3",
   "metadata": {},
   "source": [
    "# Analysis Of Data"
   ]
  },
  {
   "cell_type": "code",
   "execution_count": 16,
   "id": "04eaf488",
   "metadata": {},
   "outputs": [
    {
     "name": "stdout",
     "output_type": "stream",
     "text": [
      "Country with Highest Terrorist Attacks: Iraq\n"
     ]
    }
   ],
   "source": [
    "print('Country with Highest Terrorist Attacks:',df['Country'].value_counts().index[0])"
   ]
  },
  {
   "cell_type": "code",
   "execution_count": 17,
   "id": "f059e20c",
   "metadata": {},
   "outputs": [
    {
     "name": "stdout",
     "output_type": "stream",
     "text": [
      "Regions with Highest Terrorist Attacks: Middle East & North Africa\n"
     ]
    }
   ],
   "source": [
    "print('Regions with Highest Terrorist Attacks:',df['Region'].value_counts().index[0])"
   ]
  },
  {
   "cell_type": "code",
   "execution_count": 18,
   "id": "b05f4424",
   "metadata": {},
   "outputs": [
    {
     "name": "stdout",
     "output_type": "stream",
     "text": [
      "Maximum people killed in an attack are: 1570.0\n"
     ]
    }
   ],
   "source": [
    "print('Maximum people killed in an attack are:',df['Killed'].max())"
   ]
  },
  {
   "cell_type": "code",
   "execution_count": 19,
   "id": "e2693a35",
   "metadata": {},
   "outputs": [
    {
     "name": "stdout",
     "output_type": "stream",
     "text": [
      "Year with the most attacks: 2014\n"
     ]
    }
   ],
   "source": [
    "print(\"Year with the most attacks:\",df['Year'].value_counts().idxmax())"
   ]
  },
  {
   "cell_type": "code",
   "execution_count": 20,
   "id": "ca4f68ab",
   "metadata": {},
   "outputs": [
    {
     "name": "stdout",
     "output_type": "stream",
     "text": [
      "Month with the most attacks: 5\n"
     ]
    }
   ],
   "source": [
    "print(\"Month with the most attacks:\",df['Month'].value_counts().idxmax())"
   ]
  },
  {
   "cell_type": "code",
   "execution_count": 21,
   "id": "105bb0e9",
   "metadata": {},
   "outputs": [
    {
     "name": "stdout",
     "output_type": "stream",
     "text": [
      "Most Attack Types: Bombing/Explosion\n"
     ]
    }
   ],
   "source": [
    "print(\"Most Attack Types:\",df['AttackType'].value_counts().idxmax())"
   ]
  },
  {
   "cell_type": "markdown",
   "id": "ad585ed0",
   "metadata": {},
   "source": [
    "# Terrorist Activities Over a year"
   ]
  },
  {
   "cell_type": "code",
   "execution_count": 22,
   "id": "66566bcc",
   "metadata": {},
   "outputs": [
    {
     "name": "stderr",
     "output_type": "stream",
     "text": [
      "C:\\ProgramData\\Anaconda3\\lib\\site-packages\\seaborn\\_decorators.py:36: FutureWarning: Pass the following variable as a keyword arg: x. From version 0.12, the only valid positional argument will be `data`, and passing other arguments without an explicit keyword will result in an error or misinterpretation.\n",
      "  warnings.warn(\n"
     ]
    },
    {
     "data": {
      "image/png": "[encoded data removed]",
      "text/plain": [
       "<Figure size 1080x576 with 1 Axes>"
      ]
     },
     "metadata": {
      "needs_background": "light"
     },
     "output_type": "display_data"
    }
   ],
   "source": [
    "plt.figure(figsize=(15,8))\n",
    "sns.countplot(df['Year'])\n",
    "plt.xticks(rotation=90)\n",
    "plt.show()"
   ]
  },
  {
   "cell_type": "markdown",
   "id": "ea43cb5b",
   "metadata": {},
   "source": [
    "from above plot's we can see that terrorist activites has rapidly increased after 2005 and it was at peak in 2014\n",
    "\n",
    "# Top 10 Suffering Countries"
   ]
  },
  {
   "cell_type": "code",
   "execution_count": 23,
   "id": "96f7c5e0",
   "metadata": {},
   "outputs": [
    {
     "data": {
      "text/plain": [
       "Iraq              24636\n",
       "Pakistan          14368\n",
       "Afghanistan       12731\n",
       "India             11960\n",
       "Colombia           8306\n",
       "Philippines        6908\n",
       "Peru               6096\n",
       "El Salvador        5320\n",
       "United Kingdom     5235\n",
       "Turkey             4292\n",
       "Name: Country, dtype: int64"
      ]
     },
     "execution_count": 23,
     "metadata": {},
     "output_type": "execute_result"
    }
   ],
   "source": [
    "df['Country'].value_counts().head(10)"
   ]
  },
  {
   "cell_type": "code",
   "execution_count": 24,
   "id": "0d82d865",
   "metadata": {},
   "outputs": [
    {
     "name": "stderr",
     "output_type": "stream",
     "text": [
      "C:\\ProgramData\\Anaconda3\\lib\\site-packages\\seaborn\\_decorators.py:36: FutureWarning: Pass the following variables as keyword args: x, y. From version 0.12, the only valid positional argument will be `data`, and passing other arguments without an explicit keyword will result in an error or misinterpretation.\n",
      "  warnings.warn(\n"
     ]
    },
    {
     "data": {
      "image/png": "[encoded data removed]",
      "text/plain": [
       "<Figure size 720x360 with 1 Axes>"
      ]
     },
     "metadata": {
      "needs_background": "light"
     },
     "output_type": "display_data"
    }
   ],
   "source": [
    "plt.figure(figsize=(10,5))\n",
    "x = df['Country'].value_counts().values[:10]\n",
    "y = df['Country'].value_counts().index[:10]\n",
    "sns.barplot(y,x)\n",
    "plt.xticks(rotation=90)\n",
    "plt.show()"
   ]
  },
  {
   "cell_type": "markdown",
   "id": "5a13cbb8",
   "metadata": {},
   "source": [
    "In above plot we can see Iraq is most affected country\n",
    "\n",
    "# Top 10 Suffering cities"
   ]
  },
  {
   "cell_type": "code",
   "execution_count": 25,
   "id": "1889c03c",
   "metadata": {},
   "outputs": [
    {
     "data": {
      "text/plain": [
       "Unknown         9775\n",
       "Baghdad         7589\n",
       "Karachi         2652\n",
       "Lima            2359\n",
       "Mosul           2265\n",
       "Belfast         2171\n",
       "Santiago        1621\n",
       "Mogadishu       1581\n",
       "San Salvador    1558\n",
       "Istanbul        1048\n",
       "Name: city, dtype: int64"
      ]
     },
     "execution_count": 25,
     "metadata": {},
     "output_type": "execute_result"
    }
   ],
   "source": [
    "df['city'].value_counts().head(10)"
   ]
  },
  {
   "cell_type": "code",
   "execution_count": 26,
   "id": "ac4ce7ea",
   "metadata": {},
   "outputs": [
    {
     "name": "stderr",
     "output_type": "stream",
     "text": [
      "C:\\ProgramData\\Anaconda3\\lib\\site-packages\\seaborn\\_decorators.py:36: FutureWarning: Pass the following variables as keyword args: x, y. From version 0.12, the only valid positional argument will be `data`, and passing other arguments without an explicit keyword will result in an error or misinterpretation.\n",
      "  warnings.warn(\n"
     ]
    },
    {
     "data": {
      "image/png": "[encoded data removed]",
      "text/plain": [
       "<Figure size 720x360 with 1 Axes>"
      ]
     },
     "metadata": {
      "needs_background": "light"
     },
     "output_type": "display_data"
    }
   ],
   "source": [
    "plt.figure(figsize=(10,5))\n",
    "x = df['city'].value_counts().values[:10]\n",
    "y = df['city'].value_counts().index[:10]\n",
    "sns.barplot(y,x)\n",
    "plt.xticks(rotation=90)\n",
    "plt.show()"
   ]
  },
  {
   "cell_type": "markdown",
   "id": "ade4b5f3",
   "metadata": {},
   "source": [
    "# Top 10 Suffering Region"
   ]
  },
  {
   "cell_type": "code",
   "execution_count": 27,
   "id": "3d38ab30",
   "metadata": {},
   "outputs": [
    {
     "data": {
      "text/plain": [
       "Middle East & North Africa     50474\n",
       "South Asia                     44974\n",
       "South America                  18978\n",
       "Sub-Saharan Africa             17550\n",
       "Western Europe                 16639\n",
       "Southeast Asia                 12485\n",
       "Central America & Caribbean    10344\n",
       "Eastern Europe                  5144\n",
       "North America                   3456\n",
       "East Asia                        802\n",
       "Name: Region, dtype: int64"
      ]
     },
     "execution_count": 27,
     "metadata": {},
     "output_type": "execute_result"
    }
   ],
   "source": [
    "df['Region'].value_counts().head(10)"
   ]
  },
  {
   "cell_type": "code",
   "execution_count": 28,
   "id": "d5e2a6a3",
   "metadata": {},
   "outputs": [
    {
     "name": "stderr",
     "output_type": "stream",
     "text": [
      "C:\\ProgramData\\Anaconda3\\lib\\site-packages\\seaborn\\_decorators.py:36: FutureWarning: Pass the following variables as keyword args: x, y. From version 0.12, the only valid positional argument will be `data`, and passing other arguments without an explicit keyword will result in an error or misinterpretation.\n",
      "  warnings.warn(\n"
     ]
    },
    {
     "data": {
      "image/png": "[encoded data removed]",
      "text/plain": [
       "<Figure size 720x360 with 1 Axes>"
      ]
     },
     "metadata": {
      "needs_background": "light"
     },
     "output_type": "display_data"
    }
   ],
   "source": [
    "plt.figure(figsize=(10,5))\n",
    "x = df['Region'].value_counts().values[:10]\n",
    "y = df['Region'].value_counts().index[:10]\n",
    "sns.barplot(y,x)\n",
    "plt.xticks(rotation=90)\n",
    "plt.show()"
   ]
  },
  {
   "cell_type": "markdown",
   "id": "23084db7",
   "metadata": {},
   "source": [
    "# Middle east and north africa are most suffering region\n",
    "\n",
    "# Let's see country wise"
   ]
  },
  {
   "cell_type": "code",
   "execution_count": 29,
   "id": "4947d0ac",
   "metadata": {},
   "outputs": [
    {
     "data": {
      "image/png": "[encoded data removed]",
      "text/plain": [
       "<Figure size 864x432 with 1 Axes>"
      ]
     },
     "metadata": {
      "needs_background": "light"
     },
     "output_type": "display_data"
    }
   ],
   "source": [
    "plt.figure(figsize=(12,6))\n",
    "df.groupby('Country')['Killed'].sum().sort_values(ascending=False).head(20).plot(kind='bar')\n",
    "plt.xticks(rotation=90)\n",
    "plt.show()"
   ]
  },
  {
   "cell_type": "markdown",
   "id": "1dea7453",
   "metadata": {},
   "source": [
    "# Region wise killing"
   ]
  },
  {
   "cell_type": "code",
   "execution_count": 30,
   "id": "bbd71ce8",
   "metadata": {},
   "outputs": [
    {
     "data": {
      "image/png": "[encoded data removed]",
      "text/plain": [
       "<Figure size 864x432 with 1 Axes>"
      ]
     },
     "metadata": {
      "needs_background": "light"
     },
     "output_type": "display_data"
    }
   ],
   "source": [
    "plt.figure(figsize=(12,6))\n",
    "df.groupby('Region')['Killed'].sum().sort_values(ascending=False).head(10).plot(kind='bar')\n",
    "plt.xticks(rotation=90)\n",
    "plt.show()"
   ]
  },
  {
   "cell_type": "markdown",
   "id": "042c6484",
   "metadata": {},
   "source": [
    "# Terrorist most preferable attack type"
   ]
  },
  {
   "cell_type": "code",
   "execution_count": 31,
   "id": "1e2f8404",
   "metadata": {},
   "outputs": [
    {
     "name": "stderr",
     "output_type": "stream",
     "text": [
      "C:\\ProgramData\\Anaconda3\\lib\\site-packages\\seaborn\\_decorators.py:36: FutureWarning: Pass the following variable as a keyword arg: x. From version 0.12, the only valid positional argument will be `data`, and passing other arguments without an explicit keyword will result in an error or misinterpretation.\n",
      "  warnings.warn(\n"
     ]
    },
    {
     "data": {
      "image/png": "[encoded data removed]",
      "text/plain": [
       "<Figure size 864x432 with 1 Axes>"
      ]
     },
     "metadata": {
      "needs_background": "light"
     },
     "output_type": "display_data"
    }
   ],
   "source": [
    "plt.figure(figsize=(12,6))\n",
    "sns.countplot(df['AttackType'],order=df['AttackType'].value_counts().index,palette='Set1')\n",
    "plt.xticks(rotation=90)\n",
    "plt.show()"
   ]
  },
  {
   "cell_type": "markdown",
   "id": "80e9e44e",
   "metadata": {},
   "source": [
    "# Bombing/Explosion is most preferable attack type\n",
    "\n",
    "# Terrorist Preferable target type\n"
   ]
  },
  {
   "cell_type": "code",
   "execution_count": 32,
   "id": "4ae41344",
   "metadata": {},
   "outputs": [
    {
     "name": "stderr",
     "output_type": "stream",
     "text": [
      "C:\\ProgramData\\Anaconda3\\lib\\site-packages\\seaborn\\_decorators.py:36: FutureWarning: Pass the following variable as a keyword arg: x. From version 0.12, the only valid positional argument will be `data`, and passing other arguments without an explicit keyword will result in an error or misinterpretation.\n",
      "  warnings.warn(\n"
     ]
    },
    {
     "data": {
      "image/png": "[encoded data removed]",
      "text/plain": [
       "<Figure size 864x432 with 1 Axes>"
      ]
     },
     "metadata": {
      "needs_background": "light"
     },
     "output_type": "display_data"
    }
   ],
   "source": [
    "plt.figure(figsize=(12,6))\n",
    "sns.countplot(df['Target_type'],order=df['Target_type'].value_counts().index,palette='Set1')\n",
    "plt.xticks(rotation=90)\n",
    "plt.show()"
   ]
  },
  {
   "cell_type": "markdown",
   "id": "78e2d5d9",
   "metadata": {},
   "source": [
    "# They mostly target private citizens and property\n",
    "\n",
    "# Terrorist group with highest attack\n"
   ]
  },
  {
   "cell_type": "code",
   "execution_count": 33,
   "id": "f946899a",
   "metadata": {},
   "outputs": [
    {
     "name": "stderr",
     "output_type": "stream",
     "text": [
      "C:\\ProgramData\\Anaconda3\\lib\\site-packages\\seaborn\\_decorators.py:36: FutureWarning: Pass the following variables as keyword args: x, y. From version 0.12, the only valid positional argument will be `data`, and passing other arguments without an explicit keyword will result in an error or misinterpretation.\n",
      "  warnings.warn(\n"
     ]
    },
    {
     "data": {
      "image/png": "[encoded data removed]",
      "text/plain": [
       "<Figure size 720x576 with 1 Axes>"
      ]
     },
     "metadata": {
      "needs_background": "light"
     },
     "output_type": "display_data"
    }
   ],
   "source": [
    "sns.barplot(df['Group'].value_counts()[1:10].values,df['Group'].value_counts()[1:10].index,palette='Set1')\n",
    "plt.xticks(rotation=90)\n",
    "fig=plt.gcf()\n",
    "fig.set_size_inches(10,8)\n",
    "plt.title('Terrorist Groups with Highest Terror Attacks')\n",
    "plt.show()"
   ]
  },
  {
   "cell_type": "markdown",
   "id": "4041b221",
   "metadata": {},
   "source": [
    "# Terrorism in india"
   ]
  },
  {
   "cell_type": "code",
   "execution_count": 34,
   "id": "c8979241",
   "metadata": {},
   "outputs": [],
   "source": [
    "group_country = df.groupby('Country')\n",
    "india = group_country.get_group('India')"
   ]
  },
  {
   "cell_type": "markdown",
   "id": "cd32fc06",
   "metadata": {},
   "source": [
    "# Most affected cities of india"
   ]
  },
  {
   "cell_type": "code",
   "execution_count": 35,
   "id": "ed01cc58",
   "metadata": {},
   "outputs": [
    {
     "data": {
      "image/png": "[encoded data removed]",
      "text/plain": [
       "<Figure size 720x360 with 1 Axes>"
      ]
     },
     "metadata": {
      "needs_background": "light"
     },
     "output_type": "display_data"
    }
   ],
   "source": [
    "india['city'].value_counts().nlargest(15).plot(kind='bar', figsize=(10,5))\n",
    "plt.show()"
   ]
  },
  {
   "cell_type": "markdown",
   "id": "3102a62f",
   "metadata": {},
   "source": [
    "Srinagar is most effected city in india\n",
    "\n",
    "# Terrorist activites trends over the year\n"
   ]
  },
  {
   "cell_type": "code",
   "execution_count": 36,
   "id": "ef098ed8",
   "metadata": {},
   "outputs": [
    {
     "name": "stderr",
     "output_type": "stream",
     "text": [
      "C:\\ProgramData\\Anaconda3\\lib\\site-packages\\seaborn\\_decorators.py:36: FutureWarning: Pass the following variable as a keyword arg: x. From version 0.12, the only valid positional argument will be `data`, and passing other arguments without an explicit keyword will result in an error or misinterpretation.\n",
      "  warnings.warn(\n"
     ]
    },
    {
     "data": {
      "image/png": "[encoded data removed]",
      "text/plain": [
       "<Figure size 1080x576 with 1 Axes>"
      ]
     },
     "metadata": {
      "needs_background": "light"
     },
     "output_type": "display_data"
    }
   ],
   "source": [
    "plt.figure(figsize=(15,8))\n",
    "sns.countplot(india['Year'])\n",
    "plt.xticks(rotation=90)\n",
    "plt.show()"
   ]
  },
  {
   "cell_type": "markdown",
   "id": "e1e241b4",
   "metadata": {},
   "source": [
    "# Deadlist terrorist group in india"
   ]
  },
  {
   "cell_type": "code",
   "execution_count": 37,
   "id": "3899eb14",
   "metadata": {},
   "outputs": [
    {
     "name": "stderr",
     "output_type": "stream",
     "text": [
      "C:\\ProgramData\\Anaconda3\\lib\\site-packages\\seaborn\\_decorators.py:36: FutureWarning: Pass the following variables as keyword args: x, y. From version 0.12, the only valid positional argument will be `data`, and passing other arguments without an explicit keyword will result in an error or misinterpretation.\n",
      "  warnings.warn(\n"
     ]
    },
    {
     "data": {
      "image/png": "[encoded data removed]",
      "text/plain": [
       "<Figure size 720x576 with 1 Axes>"
      ]
     },
     "metadata": {
      "needs_background": "light"
     },
     "output_type": "display_data"
    }
   ],
   "source": [
    "sns.barplot(india['Group'].value_counts()[1:10].values,india['Group'].value_counts()[1:10].index,palette='Set1')\n",
    "plt.xticks(rotation=90)\n",
    "fig=plt.gcf()\n",
    "fig.set_size_inches(10,8)\n",
    "plt.title('Terrorist Groups with Highest Terror Attacks')\n",
    "plt.show()"
   ]
  },
  {
   "cell_type": "markdown",
   "id": "0588fcd8",
   "metadata": {},
   "source": [
    "# Killing trends over a year"
   ]
  },
  {
   "cell_type": "code",
   "execution_count": 38,
   "id": "e3d06b7b",
   "metadata": {},
   "outputs": [
    {
     "name": "stderr",
     "output_type": "stream",
     "text": [
      "C:\\ProgramData\\Anaconda3\\lib\\site-packages\\seaborn\\_decorators.py:36: FutureWarning: Pass the following variables as keyword args: x, y. From version 0.12, the only valid positional argument will be `data`, and passing other arguments without an explicit keyword will result in an error or misinterpretation.\n",
      "  warnings.warn(\n"
     ]
    },
    {
     "data": {
      "image/png": "[encoded data removed]",
      "text/plain": [
       "<Figure size 1440x576 with 1 Axes>"
      ]
     },
     "metadata": {
      "needs_background": "light"
     },
     "output_type": "display_data"
    }
   ],
   "source": [
    "plt.figure(figsize=(20,8))\n",
    "sns.barplot(india['Year'],india['Killed'],color='red')\n",
    "plt.xticks(rotation=90)\n",
    "plt.show()"
   ]
  },
  {
   "cell_type": "markdown",
   "id": "94cb31fe",
   "metadata": {},
   "source": [
    "# Most preferable type of attack in india"
   ]
  },
  {
   "cell_type": "code",
   "execution_count": 39,
   "id": "9ff598f8",
   "metadata": {},
   "outputs": [
    {
     "name": "stderr",
     "output_type": "stream",
     "text": [
      "C:\\ProgramData\\Anaconda3\\lib\\site-packages\\seaborn\\_decorators.py:36: FutureWarning: Pass the following variable as a keyword arg: x. From version 0.12, the only valid positional argument will be `data`, and passing other arguments without an explicit keyword will result in an error or misinterpretation.\n",
      "  warnings.warn(\n"
     ]
    },
    {
     "data": {
      "image/png": "[encoded data removed]",
      "text/plain": [
       "<Figure size 1080x432 with 1 Axes>"
      ]
     },
     "metadata": {
      "needs_background": "light"
     },
     "output_type": "display_data"
    }
   ],
   "source": [
    "plt.figure(figsize=(15,6))\n",
    "sns.countplot(india['AttackType'])\n",
    "plt.xticks(rotation=90)\n",
    "plt.show()"
   ]
  },
  {
   "cell_type": "code",
   "execution_count": null,
   "id": "db6ed0d6",
   "metadata": {},
   "outputs": [],
   "source": []
  }
 ],
 "metadata": {
  "kernelspec": {
   "display_name": "Python 3",
   "language": "python",
   "name": "python3"
  },
  "language_info": {
   "codemirror_mode": {
    "name": "ipython",
    "version": 3
   },
   "file_extension": ".py",
   "mimetype": "text/x-python",
   "name": "python",
   "nbconvert_exporter": "python",
   "pygments_lexer": "ipython3",
   "version": "3.8.8"
  }
 },
 "nbformat": 4,
 "nbformat_minor": 5
}
